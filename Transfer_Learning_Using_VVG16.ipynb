{
  "nbformat": 4,
  "nbformat_minor": 0,
  "metadata": {
    "colab": {
      "provenance": [],
      "gpuType": "T4",
      "authorship_tag": "ABX9TyNekyBE02UqP9YkAZDjvr2n",
      "include_colab_link": true
    },
    "kernelspec": {
      "name": "python3",
      "display_name": "Python 3"
    },
    "language_info": {
      "name": "python"
    },
    "accelerator": "GPU"
  },
  "cells": [
    {
      "cell_type": "markdown",
      "metadata": {
        "id": "view-in-github",
        "colab_type": "text"
      },
      "source": [
        "<a href=\"https://colab.research.google.com/github/shubham5027/Transfer-Learning-Using-VVG16/blob/main/Transfer_Learning_Using_VVG16.ipynb\" target=\"_parent\"><img src=\"https://colab.research.google.com/assets/colab-badge.svg\" alt=\"Open In Colab\"/></a>"
      ]
    },
    {
      "cell_type": "code",
      "execution_count": 1,
      "metadata": {
        "id": "Y8w62PFi8Eas"
      },
      "outputs": [],
      "source": [
        "from tensorflow import keras\n",
        "import tensorflow as tf"
      ]
    },
    {
      "cell_type": "code",
      "source": [
        "from keras.applications.vgg16 import VGG16"
      ],
      "metadata": {
        "id": "8s3-_Uju8hlb"
      },
      "execution_count": 2,
      "outputs": []
    },
    {
      "cell_type": "code",
      "source": [
        "model=VGG16()"
      ],
      "metadata": {
        "colab": {
          "base_uri": "https://localhost:8080/"
        },
        "id": "tPfCE1mb8wmo",
        "outputId": "b43e69d3-5f70-4f0e-e332-ef411fd64dca"
      },
      "execution_count": 3,
      "outputs": [
        {
          "output_type": "stream",
          "name": "stdout",
          "text": [
            "Downloading data from https://storage.googleapis.com/tensorflow/keras-applications/vgg16/vgg16_weights_tf_dim_ordering_tf_kernels.h5\n",
            "553467096/553467096 [==============================] - 14s 0us/step\n"
          ]
        }
      ]
    },
    {
      "cell_type": "code",
      "source": [
        "model.summary()"
      ],
      "metadata": {
        "colab": {
          "base_uri": "https://localhost:8080/"
        },
        "id": "qrwA9kfK8y25",
        "outputId": "dccc8294-b2d9-401c-c6f3-8d60138363ac"
      },
      "execution_count": 4,
      "outputs": [
        {
          "output_type": "stream",
          "name": "stdout",
          "text": [
            "Model: \"vgg16\"\n",
            "_________________________________________________________________\n",
            " Layer (type)                Output Shape              Param #   \n",
            "=================================================================\n",
            " input_1 (InputLayer)        [(None, 224, 224, 3)]     0         \n",
            "                                                                 \n",
            " block1_conv1 (Conv2D)       (None, 224, 224, 64)      1792      \n",
            "                                                                 \n",
            " block1_conv2 (Conv2D)       (None, 224, 224, 64)      36928     \n",
            "                                                                 \n",
            " block1_pool (MaxPooling2D)  (None, 112, 112, 64)      0         \n",
            "                                                                 \n",
            " block2_conv1 (Conv2D)       (None, 112, 112, 128)     73856     \n",
            "                                                                 \n",
            " block2_conv2 (Conv2D)       (None, 112, 112, 128)     147584    \n",
            "                                                                 \n",
            " block2_pool (MaxPooling2D)  (None, 56, 56, 128)       0         \n",
            "                                                                 \n",
            " block3_conv1 (Conv2D)       (None, 56, 56, 256)       295168    \n",
            "                                                                 \n",
            " block3_conv2 (Conv2D)       (None, 56, 56, 256)       590080    \n",
            "                                                                 \n",
            " block3_conv3 (Conv2D)       (None, 56, 56, 256)       590080    \n",
            "                                                                 \n",
            " block3_pool (MaxPooling2D)  (None, 28, 28, 256)       0         \n",
            "                                                                 \n",
            " block4_conv1 (Conv2D)       (None, 28, 28, 512)       1180160   \n",
            "                                                                 \n",
            " block4_conv2 (Conv2D)       (None, 28, 28, 512)       2359808   \n",
            "                                                                 \n",
            " block4_conv3 (Conv2D)       (None, 28, 28, 512)       2359808   \n",
            "                                                                 \n",
            " block4_pool (MaxPooling2D)  (None, 14, 14, 512)       0         \n",
            "                                                                 \n",
            " block5_conv1 (Conv2D)       (None, 14, 14, 512)       2359808   \n",
            "                                                                 \n",
            " block5_conv2 (Conv2D)       (None, 14, 14, 512)       2359808   \n",
            "                                                                 \n",
            " block5_conv3 (Conv2D)       (None, 14, 14, 512)       2359808   \n",
            "                                                                 \n",
            " block5_pool (MaxPooling2D)  (None, 7, 7, 512)         0         \n",
            "                                                                 \n",
            " flatten (Flatten)           (None, 25088)             0         \n",
            "                                                                 \n",
            " fc1 (Dense)                 (None, 4096)              102764544 \n",
            "                                                                 \n",
            " fc2 (Dense)                 (None, 4096)              16781312  \n",
            "                                                                 \n",
            " predictions (Dense)         (None, 1000)              4097000   \n",
            "                                                                 \n",
            "=================================================================\n",
            "Total params: 138357544 (527.79 MB)\n",
            "Trainable params: 138357544 (527.79 MB)\n",
            "Non-trainable params: 0 (0.00 Byte)\n",
            "_________________________________________________________________\n"
          ]
        }
      ]
    },
    {
      "cell_type": "code",
      "source": [
        "import cv2"
      ],
      "metadata": {
        "id": "I0NaFPnS85NZ"
      },
      "execution_count": 5,
      "outputs": []
    },
    {
      "cell_type": "code",
      "source": [
        "img=cv2.imread('/content/tiger.1.559435.jpg')"
      ],
      "metadata": {
        "id": "AriOjj-R8-hA"
      },
      "execution_count": 37,
      "outputs": []
    },
    {
      "cell_type": "code",
      "source": [
        "img.shape"
      ],
      "metadata": {
        "colab": {
          "base_uri": "https://localhost:8080/"
        },
        "id": "PapMsgpd9FUx",
        "outputId": "ea841154-9a55-4d61-ccc4-9f5f0d1f558a"
      },
      "execution_count": 38,
      "outputs": [
        {
          "output_type": "execute_result",
          "data": {
            "text/plain": [
              "(465, 828, 3)"
            ]
          },
          "metadata": {},
          "execution_count": 38
        }
      ]
    },
    {
      "cell_type": "code",
      "source": [
        "img_resized=cv2.resize(img,(224,224))"
      ],
      "metadata": {
        "id": "73aJDs6G9Zdp"
      },
      "execution_count": 39,
      "outputs": []
    },
    {
      "cell_type": "code",
      "source": [
        "img_resized.shape"
      ],
      "metadata": {
        "colab": {
          "base_uri": "https://localhost:8080/"
        },
        "id": "BYdxVQnO9iTg",
        "outputId": "2ff63e75-bcf0-42a9-afc6-9c091629e8d8"
      },
      "execution_count": 40,
      "outputs": [
        {
          "output_type": "execute_result",
          "data": {
            "text/plain": [
              "(224, 224, 3)"
            ]
          },
          "metadata": {},
          "execution_count": 40
        }
      ]
    },
    {
      "cell_type": "code",
      "source": [
        "import numpy as np\n",
        "img_array=np.array(img_resized)"
      ],
      "metadata": {
        "id": "Foz6n4dg9rDy"
      },
      "execution_count": 41,
      "outputs": []
    },
    {
      "cell_type": "code",
      "source": [
        "img_array"
      ],
      "metadata": {
        "colab": {
          "base_uri": "https://localhost:8080/"
        },
        "id": "s53vD33P-A41",
        "outputId": "934276de-42c6-491f-8fe1-55fce80f2d16"
      },
      "execution_count": 42,
      "outputs": [
        {
          "output_type": "execute_result",
          "data": {
            "text/plain": [
              "array([[[ 64, 109, 127],\n",
              "        [ 60, 104, 136],\n",
              "        [ 49, 102, 134],\n",
              "        ...,\n",
              "        [ 24,  52,  79],\n",
              "        [ 24,  54,  77],\n",
              "        [ 18,  43,  59]],\n",
              "\n",
              "       [[ 69, 113, 131],\n",
              "        [ 59, 102, 135],\n",
              "        [ 56, 107, 137],\n",
              "        ...,\n",
              "        [ 18,  44,  64],\n",
              "        [ 19,  44,  67],\n",
              "        [ 16,  41,  57]],\n",
              "\n",
              "       [[ 64, 109, 127],\n",
              "        [ 75, 119, 152],\n",
              "        [ 71, 120, 148],\n",
              "        ...,\n",
              "        [  4,  27,  39],\n",
              "        [ 16,  36,  57],\n",
              "        [ 22,  47,  63]],\n",
              "\n",
              "       ...,\n",
              "\n",
              "       [[ 94, 116, 133],\n",
              "        [114, 148, 178],\n",
              "        [137, 167, 193],\n",
              "        ...,\n",
              "        [137, 166, 192],\n",
              "        [158, 187, 214],\n",
              "        [128, 158, 185]],\n",
              "\n",
              "       [[130, 152, 169],\n",
              "        [136, 170, 200],\n",
              "        [145, 175, 196],\n",
              "        ...,\n",
              "        [131, 157, 185],\n",
              "        [137, 163, 190],\n",
              "        [132, 162, 189]],\n",
              "\n",
              "       [[148, 172, 190],\n",
              "        [142, 175, 205],\n",
              "        [128, 159, 178],\n",
              "        ...,\n",
              "        [103, 130, 159],\n",
              "        [114, 141, 170],\n",
              "        [131, 163, 188]]], dtype=uint8)"
            ]
          },
          "metadata": {},
          "execution_count": 42
        }
      ]
    },
    {
      "cell_type": "code",
      "source": [
        "#reshaping the image\n",
        "# (n,x,y,chanell)\n",
        "\n",
        "img=img_array.reshape(1,224,224,3)"
      ],
      "metadata": {
        "id": "CasOK-vb-Dk8"
      },
      "execution_count": 43,
      "outputs": []
    },
    {
      "cell_type": "code",
      "source": [
        "from keras.applications.vgg16 import preprocess_input\n"
      ],
      "metadata": {
        "id": "utEmegCM-UJG"
      },
      "execution_count": 44,
      "outputs": []
    },
    {
      "cell_type": "code",
      "source": [
        "image=preprocess_input(img)"
      ],
      "metadata": {
        "id": "b1MTJfnQxzQQ"
      },
      "execution_count": 45,
      "outputs": []
    },
    {
      "cell_type": "code",
      "source": [
        "pred=model.predict(image)"
      ],
      "metadata": {
        "colab": {
          "base_uri": "https://localhost:8080/"
        },
        "id": "IJCPDWI0x258",
        "outputId": "cf5262d5-6f49-49ec-bef3-2c87b6ba8b9d"
      },
      "execution_count": 46,
      "outputs": [
        {
          "output_type": "stream",
          "name": "stdout",
          "text": [
            "1/1 [==============================] - 0s 20ms/step\n"
          ]
        }
      ]
    },
    {
      "cell_type": "code",
      "source": [
        "from keras.applications.vgg16 import decode_predictions\n",
        "result=decode_predictions(pred)"
      ],
      "metadata": {
        "id": "5MmjWWoxx5Z9"
      },
      "execution_count": 47,
      "outputs": []
    },
    {
      "cell_type": "code",
      "source": [
        "result"
      ],
      "metadata": {
        "colab": {
          "base_uri": "https://localhost:8080/"
        },
        "id": "428CaqYTyONm",
        "outputId": "27f451b7-a6ac-4518-c605-5c59a6e10d74"
      },
      "execution_count": 48,
      "outputs": [
        {
          "output_type": "execute_result",
          "data": {
            "text/plain": [
              "[[('n02129604', 'tiger', 0.8455464),\n",
              "  ('n02123159', 'tiger_cat', 0.14596747),\n",
              "  ('n02391049', 'zebra', 0.007090562),\n",
              "  ('n02128925', 'jaguar', 0.00052550086),\n",
              "  ('n02123045', 'tabby', 0.00018699965)]]"
            ]
          },
          "metadata": {},
          "execution_count": 48
        }
      ]
    },
    {
      "cell_type": "code",
      "source": [],
      "metadata": {
        "id": "zTLR8GuYyVAn"
      },
      "execution_count": null,
      "outputs": []
    }
  ]
}